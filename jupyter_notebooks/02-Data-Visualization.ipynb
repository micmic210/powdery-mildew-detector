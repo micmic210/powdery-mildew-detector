{
  "cells": [
    {
      "cell_type": "markdown",
      "metadata": {
        "id": "0aStgWSO0E0E"
      },
      "source": [
        "# **Data Visualization**"
      ]
    },
    {
      "cell_type": "markdown",
      "metadata": {
        "id": "1eLEkw5O0ECa"
      },
      "source": [
        "## Objectives\n",
        "\n",
        "1. Answer Business Requirement 1: Provide visual insights to differentiate between healthy and mildew-affected leaves. \n",
        "2. Visualize class distributions and image characteristics.\n",
        "3. Generate visuals to aid in building the Streamlit dashboard.\n",
        "\n",
        "## Inputs\n",
        "\n",
        "- Dataset directories:\n",
        "    - `inputs/mildew_dataset/cherry-leaves/train`\n",
        "    - `inputs/mildew_dataset/cherry-leaves/validation`\n",
        "    - `inputs/mildew_dataset/cherry-leaves/test`\n",
        "\n",
        "## Outputs\n",
        "\n",
        "- Image shape embeddings pickle file.\n",
        "- Mean and variability of images per label plot.\n",
        "- Visualization of class distributions.\n",
        "- Image montage for use in the Streamlit dashboard.\n",
        "\n",
        "## Additional Comments\n",
        "\n",
        "- Data visualization provides insights into dataset quality, balance, and structure.\n",
        "- Helps in identifying potential biases or imbalances in the dataset.\n",
        "- Supports informed decisions regarding preprocessing, data augmentation, and modeling strategies.\n",
        "- Ensures that the dataset is well-prepared for the modeling phase by revealing class imbalances and image variability.\n",
        "\n",
        "\n",
        "\n"
      ]
    },
    {
      "cell_type": "markdown",
      "metadata": {
        "id": "9uWZXH9LwoQg"
      },
      "source": [
        "---"
      ]
    },
    {
      "cell_type": "markdown",
      "metadata": {
        "id": "cqP-UeN-z3i2"
      },
      "source": [
        "## Set Up Environment"
      ]
    },
    {
      "cell_type": "markdown",
      "metadata": {},
      "source": [
        "### Import Libraries"
      ]
    },
    {
      "cell_type": "code",
      "execution_count": null,
      "metadata": {},
      "outputs": [],
      "source": [
        "import os\n",
        "import pandas as pd\n",
        "import numpy as np\n",
        "import matplotlib.pyplot as plt\n",
        "import seaborn as sns\n",
        "import joblib\n",
        "from matplotlib.image import imread\n",
        "from tensorflow.keras.preprocessing import image\n",
        "import itertools\n",
        "import random\n",
        "import cv2  \n",
        "\n",
        "sns.set_style(\"white\")"
      ]
    },
    {
      "cell_type": "markdown",
      "metadata": {},
      "source": [
        "### Set Working Directory"
      ]
    },
    {
      "cell_type": "code",
      "execution_count": null,
      "metadata": {},
      "outputs": [],
      "source": [
        "cwd = os.getcwd()\n",
        "os.chdir('/workspace/powdery-mildew-detector')\n",
        "print(\"You set a new current directory\")"
      ]
    },
    {
      "cell_type": "code",
      "execution_count": null,
      "metadata": {},
      "outputs": [],
      "source": [
        "work_dir = os.getcwd()\n",
        "work_dir"
      ]
    },
    {
      "cell_type": "markdown",
      "metadata": {},
      "source": [
        "### Set Input Directories"
      ]
    },
    {
      "cell_type": "code",
      "execution_count": 5,
      "metadata": {},
      "outputs": [],
      "source": [
        "# Set data directories for train, validation and the test\n",
        "my_data_dir = 'inputs/mildew_dataset/cherry-leaves'\n",
        "train_path = my_data_dir + '/train'\n",
        "val_path = my_data_dir + '/validation'\n",
        "test_path = my_data_dir + '/test'"
      ]
    },
    {
      "cell_type": "markdown",
      "metadata": {},
      "source": [
        "### Set Output Directory"
      ]
    },
    {
      "cell_type": "code",
      "execution_count": 6,
      "metadata": {},
      "outputs": [],
      "source": [
        "version = 'v1'\n",
        "file_path = f'outputs/{version}'\n",
        "\n",
        "if 'outputs' in os.listdir(work_dir) and version in os.listdir(work_dir + '/outputs'):\n",
        "    print('Old version is already available create a new version.')\n",
        "    pass\n",
        "else:\n",
        "    os.makedirs(name=file_path)"
      ]
    },
    {
      "cell_type": "markdown",
      "metadata": {},
      "source": [
        "### Set Label Names"
      ]
    },
    {
      "cell_type": "code",
      "execution_count": null,
      "metadata": {
        "id": "wZfF_j-Bz3i4",
        "outputId": "66943449-1436-4c3d-85c7-b85f9f78349b"
      },
      "outputs": [],
      "source": [
        "# Set the labels for the images\n",
        "labels = os.listdir(train_path)\n",
        "print('Label for the images are', labels)"
      ]
    },
    {
      "cell_type": "markdown",
      "metadata": {
        "id": "-mavJ8DibrcQ"
      },
      "source": [
        "## Data Visualiation of Image Data"
      ]
    },
    {
      "cell_type": "markdown",
      "metadata": {},
      "source": [
        "## Image Shape Analysis"
      ]
    },
    {
      "cell_type": "code",
      "execution_count": null,
      "metadata": {},
      "outputs": [],
      "source": [
        "# Compute average image dimensions on the train set\n",
        "dim1, dim2 = [], []\n",
        "for label in labels:\n",
        "    for image_filename in os.listdir(train_path + '/' + label):\n",
        "        img = imread(train_path + '/' + label + '/' + image_filename)\n",
        "        d1, d2, colors = img.shape\n",
        "        dim1.append(d1)  # image height\n",
        "        dim2.append(d2)  # image width\n",
        "\n",
        "# Plot image dimensions\n",
        "sns.set_style(\"whitegrid\")\n",
        "fig, axes = plt.subplots()\n",
        "sns.scatterplot(x=dim2, y=dim1, alpha=0.2)\n",
        "axes.set_xlabel(\"Width (pixels)\")\n",
        "axes.set_ylabel(\"Height (pixels)\")\n",
        "dim1_mean = int(np.array(dim1).mean())\n",
        "dim2_mean = int(np.array(dim2).mean())\n",
        "axes.axvline(x=dim1_mean, color='r', linestyle='--')\n",
        "axes.axhline(y=dim2_mean, color='r', linestyle='--')\n",
        "plt.show()\n",
        "print(f\"Width average: {dim2_mean} \\nHeight average: {dim1_mean}\")"
      ]
    },
    {
      "cell_type": "code",
      "execution_count": null,
      "metadata": {},
      "outputs": [],
      "source": [
        "image_shape = (128, 128, 3)\n",
        "image_shape"
      ]
    },
    {
      "cell_type": "code",
      "execution_count": null,
      "metadata": {},
      "outputs": [],
      "source": [
        "# Save the image shape embeddings\n",
        "joblib.dump(value=image_shape ,\n",
        "            filename=f\"{file_path}/image_shape.pkl\")"
      ]
    },
    {
      "cell_type": "markdown",
      "metadata": {},
      "source": [
        "---"
      ]
    },
    {
      "cell_type": "markdown",
      "metadata": {},
      "source": [
        "## Average and Variability of Images Per Label"
      ]
    },
    {
      "cell_type": "markdown",
      "metadata": {},
      "source": [
        "### Function to Load Images into Arrays"
      ]
    },
    {
      "cell_type": "code",
      "execution_count": null,
      "metadata": {},
      "outputs": [],
      "source": [
        "from tensorflow.keras.preprocessing import image\n",
        "\n",
        "def load_image_as_array(my_data_dir, new_size=(50, 50), n_images_per_label=20):\n",
        "    \"\"\"\n",
        "    Loads images from a directory, resizes them, and returns them as arrays with labels.\n",
        "\n",
        "    Parameters:\n",
        "    - my_data_dir (str): Path to the dataset directory with subfolders for each label.\n",
        "    - new_size (tuple): Target size for resizing images (default: (50, 50)).\n",
        "    - n_images_per_label (int): Max number of images to load per label (default: 20).\n",
        "\n",
        "    Returns:\n",
        "    - X (numpy.ndarray): Array of resized image data.\n",
        "    - y (numpy.ndarray): Array of corresponding labels.\n",
        "    \"\"\"\n",
        "    \n",
        "    X, y = np.array([], dtype='int'), np.array([], dtype='object')\n",
        "    labels = os.listdir(my_data_dir)\n",
        "\n",
        "    for label in labels:\n",
        "        counter = 0\n",
        "        for image_filename in os.listdir(my_data_dir + '/' + label):\n",
        "            if counter < n_images_per_label:\n",
        "\n",
        "                img = image.load_img(\n",
        "                    my_data_dir + '/' + label + '/' + image_filename,\n",
        "                    target_size=new_size)\n",
        "                if image.img_to_array(img).max() > 1:\n",
        "                    img_resized = image.img_to_array(img) / 255\n",
        "                else:\n",
        "                    img_resized = image.img_to_array(img)\n",
        "\n",
        "                X = np.append(X, img_resized).reshape(-1,\n",
        "                                                      new_size[0], new_size[1],\n",
        "                                                      img_resized.shape[2])\n",
        "                y = np.append(y, label)\n",
        "                counter += 1\n",
        "\n",
        "    return X, y"
      ]
    },
    {
      "cell_type": "code",
      "execution_count": null,
      "metadata": {},
      "outputs": [],
      "source": [
        "X, y = load_image_as_array(my_data_dir=train_path,\n",
        "                           new_size=image_shape,\n",
        "                           n_images_per_label=30)\n",
        "print(X.shape, y.shape)"
      ]
    },
    {
      "cell_type": "markdown",
      "metadata": {},
      "source": [
        "### Plot Mean and Variability"
      ]
    },
    {
      "cell_type": "code",
      "execution_count": 13,
      "metadata": {},
      "outputs": [],
      "source": [
        "def plot_mean_variability_per_labels(X, y, figsize=(12, 5), save_image=False):\n",
        "    \"\"\"\n",
        "    The pseudo-code for the function is:\n",
        "    * Iterate through all unique labels in the dataset.\n",
        "    * Filter the dataset to include only images corresponding to the current label.\n",
        "    * Calculate the mean and standard deviation for the filtered subset.\n",
        "    * Create a figure with two subplots:\n",
        "        - One displaying the mean image for the label.\n",
        "        - The other showing the variability (standard deviation) image.\n",
        "    * Optionally save the generated plots to the specified directory.\n",
        "    \"\"\"\n",
        "\n",
        "    for label_to_display in np.unique(y):\n",
        "        sns.set_style(\"white\")  # Set the plot style\n",
        "\n",
        "        # Reshape labels for compatibility and filter images for the current label\n",
        "        y = y.reshape(-1, 1, 1)\n",
        "        boolean_mask = np.any(y == label_to_display, axis=1).reshape(-1)\n",
        "        arr = X[boolean_mask]\n",
        "\n",
        "        # Compute the mean and variability for the current label\n",
        "        avg_img = np.mean(arr, axis=0)\n",
        "        std_img = np.std(arr, axis=0)\n",
        "        print(f\"==== Label {label_to_display} ====\")\n",
        "        print(f\"Image Shape: {avg_img.shape}\")\n",
        "\n",
        "        # Create a figure to display the average and variability images\n",
        "        fig, axes = plt.subplots(nrows=1, ncols=2, figsize=figsize)\n",
        "        axes[0].set_title(f\"Average image for label {label_to_display}\")\n",
        "        axes[0].imshow(avg_img, cmap='gray')\n",
        "        axes[1].set_title(f\"Variability image for label {label_to_display}\")\n",
        "        axes[1].imshow(std_img, cmap='gray')\n",
        "\n",
        "        # Save or display the figure based on the `save_image` argument\n",
        "        if save_image:\n",
        "            plt.savefig(f\"{file_path}/avg_var_{label_to_display}.png\",\n",
        "                        bbox_inches='tight', dpi=150)\n",
        "        else:\n",
        "            plt.tight_layout()  # Adjust layout for better spacing\n",
        "            plt.show()\n",
        "            print(\"\\n\")"
      ]
    },
    {
      "cell_type": "code",
      "execution_count": null,
      "metadata": {},
      "outputs": [],
      "source": [
        "plot_mean_variability_per_labels(X=X, y=y, figsize=(12, 5), save_image=True)\n",
        "\n",
        "# Interpretation\n",
        "print(\"Interpretation: These images show the average and variability (standard deviation) for each class. The average image provides a representative view of each class, while the variability image highlights the pixel-level differences within each class.\")\n",
        "print(\"Connection to Business Requirement: By visualizing the average and variability of images for each class, we gain a better understanding of the visual characteristics that distinguish healthy leaves from infected leaves. This helps in identifying potential features for a classification model.\")"
      ]
    },
    {
      "cell_type": "markdown",
      "metadata": {
        "id": "ZY3l0-AxO93d"
      },
      "source": [
        "---"
      ]
    },
    {
      "cell_type": "markdown",
      "metadata": {
        "id": "uFQo3ycuO-v6"
      },
      "source": [
        "### Difference between Average Healthy and Mildew-Infected Leaves"
      ]
    },
    {
      "cell_type": "code",
      "execution_count": 15,
      "metadata": {},
      "outputs": [],
      "source": [
        "def subset_image_label(X, y, label_to_display):\n",
        "    \"\"\"\n",
        "    Filters the dataset to include only the images that belong to a specific label.\n",
        "    \"\"\"\n",
        "\n",
        "    # Reshape the labels for compatibility and filter for the given label\n",
        "    y = y.reshape(-1, 1, 1)\n",
        "    y = y.reshape(-1, 1, 1)\n",
        "    boolean_mask = np.any(y == label_to_display, axis=1).reshape(-1)\n",
        "    df = X[boolean_mask]  # Subset the dataset\n",
        "    return df\n",
        "\n",
        "\n",
        "def diff_bet_avg_image_labels_data_as_array(X, y, label_1, label_2, figsize=(20, 5), save_image=False):\n",
        "    \"\"\"\n",
        "    Compares the average images between two specified labels.\n",
        "\n",
        "    - Verifies that both labels exist in the dataset.\n",
        "    - Calculates the mean image for each label.\n",
        "    - Computes the difference between the two mean images.\n",
        "    - Displays or optionally saves a figure with:\n",
        "        * Average image for label_1\n",
        "        * Average image for label_2\n",
        "        * Difference between the two averages\n",
        "    \"\"\"\n",
        "    sns.set_style(\"white\")\n",
        "\n",
        "    # Validate that both labels are present in the dataset\n",
        "    if (label_1 not in np.unique(y)) or (label_2 not in np.unique(y)):\n",
        "        print(\n",
        "            f\"Either label {label} or label {label_2}, are not in {np.unique(y)} \")\n",
        "        return\n",
        "\n",
        "    # Calculate mean from label_1\n",
        "    images_label = subset_image_label(X, y, label_1)\n",
        "    label1_avg = np.mean(images_label, axis=0)\n",
        "\n",
        "    # Calculate mean from label_2\n",
        "    images_label = subset_image_label(X, y, label_2)\n",
        "    label2_avg = np.mean(images_label, axis=0)\n",
        "\n",
        "    # Compute the difference between the two mean images\n",
        "    difference_mean = label1_avg - label2_avg\n",
        "\n",
        "    # Create and display a plot with the results\n",
        "    fig, axes = plt.subplots(nrows=1, ncols=3, figsize=figsize)\n",
        "    axes[0].imshow(label1_avg, cmap='gray')\n",
        "    axes[0].set_title(f'Average {label_1}')\n",
        "    axes[1].imshow(label2_avg, cmap='gray')\n",
        "    axes[1].set_title(f'Average {label_2}')\n",
        "    axes[2].imshow(difference_mean, cmap='gray')\n",
        "    axes[2].set_title(f'Difference image: Avg {label_1} & {label_2}')\n",
        "\n",
        "    # Save the plot to a file if save_image=True, otherwise display it\n",
        "    if save_image:\n",
        "        plt.savefig(f\"{file_path}/avg_diff.png\", bbox_inches='tight', dpi=150)\n",
        "    else:\n",
        "        plt.tight_layout()\n",
        "        plt.show()"
      ]
    },
    {
      "cell_type": "code",
      "execution_count": null,
      "metadata": {},
      "outputs": [],
      "source": [
        "diff_bet_avg_image_labels_data_as_array(X=X, y=y,\n",
        "                                        label_1='Healthy', label_2='Infected',\n",
        "                                        figsize=(12, 10),\n",
        "                                        save_image=True\n",
        "                                        )\n",
        "\n",
        "# Interpretation\n",
        "print(\"Interpretation: This visualization shows the pixel-wise difference between the average healthy leaf image and the average infected leaf image. It helps to visually identify the key features that distinguish between the two classes.\")\n",
        "print(\"Connection to Business Requirement: The difference image highlights the visual distinctions between healthy and infected leaves, directly addressing the business need to visually differentiate between the two.\")"
      ]
    },
    {
      "cell_type": "markdown",
      "metadata": {},
      "source": [
        "## Image Montage"
      ]
    },
    {
      "cell_type": "code",
      "execution_count": 17,
      "metadata": {},
      "outputs": [],
      "source": [
        "import itertools\n",
        "import random\n",
        "sns.set_style(\"white\")\n",
        "\n",
        "\n",
        "def image_montage(dir_path, label_to_display, nrows, ncols, figsize=(15, 10)):\n",
        "    \"\"\"\n",
        "    - Verify if the specified label exists in the directory.\n",
        "    - Ensure the grid size (nrows * ncols) does not exceed the number of available images.\n",
        "    - Generate a list of indices for placing images in the grid based on the specified rows and columns.\n",
        "    - Create a figure to display the images, loading and plotting each in the respective grid space.\n",
        "    \"\"\"\n",
        "\n",
        "    labels = os.listdir(dir_path)\n",
        "\n",
        "    # Check if the specified label exists in the directory\n",
        "    if label_to_display in labels:\n",
        "\n",
        "        # Validate that the montage grid can fit the available images\n",
        "        images_list = os.listdir(dir_path + '/' + label_to_display)\n",
        "        if nrows * ncols < len(images_list):\n",
        "            img_idx = random.sample(images_list, nrows * ncols)\n",
        "        else:\n",
        "            print(\n",
        "                f\"Reduce the number of rows or columns for the montage. \\n\"\n",
        "                f\"There are only {len(images_list)} images available. \"\n",
        "                f\"You requested a grid for {nrows * ncols} images.\")\n",
        "            return\n",
        "\n",
        "        # Generate grid indices based on the number of rows and columns\n",
        "        list_rows = range(0, nrows)\n",
        "        list_cols = range(0, ncols)\n",
        "        plot_idx = list(itertools.product(list_rows, list_cols))\n",
        "\n",
        "        # Create a figure and populate it with the selected images\n",
        "        fig, axes = plt.subplots(nrows=nrows, ncols=ncols, figsize=figsize)\n",
        "        for x in range(0, nrows * ncols):\n",
        "            img = imread(dir_path + '/' + label_to_display + '/' + img_idx[x])\n",
        "            img_shape = img.shape\n",
        "            axes[plot_idx[x][0], plot_idx[x][1]].imshow(img)\n",
        "            axes[plot_idx[x][0], plot_idx[x][1]].set_title(\n",
        "                f\"Width: {img_shape[1]}px, Height: {img_shape[0]}px\")\n",
        "            axes[plot_idx[x][0], plot_idx[x][1]].set_xticks([])\n",
        "            axes[plot_idx[x][0], plot_idx[x][1]].set_yticks([])\n",
        "        plt.tight_layout()\n",
        "        plt.show()\n",
        "\n",
        "    else:\n",
        "        # Notify the user if the selected label does not exist\n",
        "        print(f\"The selected label '{label_to_display}' does not exist.\")\n",
        "        print(f\"Available labels are: {labels}\")"
      ]
    },
    {
      "cell_type": "markdown",
      "metadata": {},
      "source": [
        "### Run Montage"
      ]
    },
    {
      "cell_type": "code",
      "execution_count": null,
      "metadata": {},
      "outputs": [],
      "source": [
        "for label in labels:\n",
        "    print(label)\n",
        "    image_montage(dir_path=train_path,\n",
        "                  label_to_display=label,\n",
        "                  nrows=3, ncols=3,\n",
        "                  figsize=(10, 15)\n",
        "                  )\n",
        "    print(\"\\n\")\n",
        "\n",
        "# Interpretation\n",
        "print(\"Interpretation: The image montages provide a visual overview of the variety of images within each class. We can see examples of healthy and infected leaves, helping to understand the visual patterns associated with each class.\")\n",
        "print(\"Connection to Business Requirement: The image montages provide a broad view of the visual characteristics of healthy and infected leaves, which is essential for visual differentiation.\")"
      ]
    },
    {
      "cell_type": "markdown",
      "metadata": {},
      "source": [
        "### Class Distribution"
      ]
    },
    {
      "cell_type": "code",
      "execution_count": null,
      "metadata": {},
      "outputs": [],
      "source": [
        "data = {'Set':, 'Label':, 'Frequency':}\n",
        "folders = ['train', 'validation', 'test']\n",
        "\n",
        "for folder in folders:\n",
        "    for label in labels:\n",
        "        row = {'Set': folder, 'Label': label,\n",
        "               'Frequency': int(len(os.listdir(my_data_dir + '/' + folder + '/' + label)))}\n",
        "        for key, value in row.items():\n",
        "            data[key].append(value)\n",
        "        print(f\"* {folder} - {label}: {len(os.listdir(my_data_dir+'/'+ folder + '/' + label))} images\")\n",
        "\n",
        "df_freq = pd.DataFrame(data)\n",
        "print(\"\\n\")\n",
        "\n",
        "sns.set_style(\"whitegrid\")\n",
        "plt.figure(figsize=(8, 5))\n",
        "sns.barplot(data=df_freq, x='Set', y='Frequency', hue='Label')\n",
        "plt.title('Class Distribution')\n",
        "plt.savefig(f'{file_path}/labels_distribution.png', bbox_inches='tight', dpi=150)\n",
        "plt.show()\n",
        "\n",
        "# Interpretation\n",
        "print(\"Interpretation: This plot shows the distribution of images across different classes (Healthy/Infected) in the training, validation, and test sets. We can observe if there is any class imbalance, which might need to be addressed during model training.\")\n",
        "print(\"Connection to Business Requirement: Understanding the class distribution helps in assessing the potential for bias in the dataset and informs decisions regarding data augmentation or balancing techniques.\")"
      ]
    },
    {
      "cell_type": "markdown",
      "metadata": {},
      "source": [
        "### Color Histograms"
      ]
    },
    {
      "cell_type": "code",
      "execution_count": null,
      "metadata": {},
      "outputs": [],
      "source": [
        "def plot_color_histograms(data_dir):\n",
        "    \"\"\"\n",
        "    Plots color histograms for each class in the dataset.\n",
        "\n",
        "    Args:\n",
        "      data_dir: The path to the dataset directory.\n",
        "    \"\"\"\n",
        "    for label in labels:\n",
        "        label_path = os.path.join(data_dir, label)\n",
        "        if os.path.isdir(label_path):\n",
        "            # Read the first image in the folder (you can modify this to read multiple images)\n",
        "            image_path = os.path.join(label_path, os.listdir(label_path))\n",
        "            img = cv2.imread(image_path)\n",
        "\n",
        "            # Calculate color histograms for each channel (BGR)\n",
        "            colors = ('b', 'g', 'r')\n",
        "            for i, color in enumerate(colors):\n",
        "                hist = cv2.calcHist([img], [i], None,,)\n",
        "                plt.plot(hist, color=color)\n",
        "                plt.xlim()\n",
        "\n",
        "            plt.title(f\"Color Histogram for {label}\")\n",
        "            plt.show()\n",
        "\n",
        "    # Interpretation\n",
        "    print(\"Interpretation: Color histograms show the distribution of color intensities in the images. Comparing histograms for healthy and infected leaves can reveal differences in color patterns that might be relevant for classification.\")\n",
        "    print(\"Connection to Business Requirement: Analyzing color histograms can help identify distinct color features that differentiate healthy and infected leaves, aiding in visual differentiation.\")\n",
        "\n",
        "plot_color_histograms(train_path)\n"
      ]
    },
    {
      "cell_type": "markdown",
      "metadata": {},
      "source": [
        "## Conclusions and Next Steps\n",
        "\n",
        "### Conclusions\n",
        "The data visualization process provided valuable insights into the cherry leaf dataset:\n",
        "- Image dimensions are consistent, simplifying preprocessing.\n",
        "- Average and variability images highlight visual differences between healthy and infected leaves.\n",
        "- The difference image emphasizes the key distinguishing features.\n",
        "- Image montages showcase the diversity within each class.\n",
        "- Class distribution reveals a balanced dataset.\n",
        "\n",
        "### Next Steps\n",
        "These visualizations will guide the next steps in the project:\n",
        "- Preprocessing and data augmentation strategies will be informed by the image characteristics.\n",
        "- Model selection and training will be influenced by the balanced class distribution.\n",
        "- The visualizations will be incorporated into the Streamlit dashboard to enhance understanding and communication.\n",
        "- Further analysis could explore feature importance and potential correlations within the images."
      ]
    },
    {
      "cell_type": "markdown",
      "metadata": {},
      "source": [
        "---"
      ]
    }
  ],
  "metadata": {
    "accelerator": "GPU",
    "colab": {
      "name": "Data Practitioner Jupyter Notebook.ipynb",
      "provenance": [],
      "toc_visible": true
    },
    "kernelspec": {
      "display_name": "Python 3",
      "language": "python",
      "name": "python3"
    },
    "language_info": {
      "codemirror_mode": {
        "name": "ipython",
        "version": 3
      },
      "file_extension": ".py",
      "mimetype": "text/x-python",
      "name": "python",
      "nbconvert_exporter": "python",
      "pygments_lexer": "ipython3",
      "version": "3.12.2"
    },
    "orig_nbformat": 2
  },
  "nbformat": 4,
  "nbformat_minor": 2
}
